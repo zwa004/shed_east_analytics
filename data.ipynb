{
 "cells": [
  {
   "cell_type": "markdown",
   "metadata": {},
   "source": [
    "In this workbook, I will highlight important metrics from Shed East Nasvhille"
   ]
  },
  {
   "cell_type": "code",
   "execution_count": 6,
   "metadata": {},
   "outputs": [],
   "source": [
    "import pandas as pd\n",
    "import numpy as np\n",
    "import os"
   ]
  },
  {
   "cell_type": "code",
   "execution_count": 34,
   "metadata": {},
   "outputs": [
    {
     "data": {
      "text/html": [
       "<div>\n",
       "<style scoped>\n",
       "    .dataframe tbody tr th:only-of-type {\n",
       "        vertical-align: middle;\n",
       "    }\n",
       "\n",
       "    .dataframe tbody tr th {\n",
       "        vertical-align: top;\n",
       "    }\n",
       "\n",
       "    .dataframe thead th {\n",
       "        text-align: right;\n",
       "    }\n",
       "</style>\n",
       "<table border=\"1\" class=\"dataframe\">\n",
       "  <thead>\n",
       "    <tr style=\"text-align: right;\">\n",
       "      <th></th>\n",
       "      <th>First Name</th>\n",
       "      <th>Last Name</th>\n",
       "      <th>Email</th>\n",
       "      <th>Phone Number</th>\n",
       "      <th>Member ID</th>\n",
       "      <th>Membership</th>\n",
       "      <th>Start date</th>\n",
       "      <th>End date.</th>\n",
       "      <th>Cancellation Date</th>\n",
       "      <th>Termination Date</th>\n",
       "      <th>Amount of Last Bill</th>\n",
       "      <th>Status</th>\n",
       "      <th>Hold period</th>\n",
       "    </tr>\n",
       "  </thead>\n",
       "  <tbody>\n",
       "    <tr>\n",
       "      <th>0</th>\n",
       "      <td>A.J.</td>\n",
       "      <td>Amos</td>\n",
       "      <td>anthony.amos@gmail.com</td>\n",
       "      <td>615-870-9032</td>\n",
       "      <td>NaN</td>\n",
       "      <td>6 Month Unlimited (PAID IN FULL)</td>\n",
       "      <td>Feb 9, 2022</td>\n",
       "      <td>Aug 8, 2022</td>\n",
       "      <td>NaN</td>\n",
       "      <td>NaN</td>\n",
       "      <td>$975.00</td>\n",
       "      <td>Expired Memberships</td>\n",
       "      <td>NaN</td>\n",
       "    </tr>\n",
       "    <tr>\n",
       "      <th>1</th>\n",
       "      <td>A.J.</td>\n",
       "      <td>Amos</td>\n",
       "      <td>anthony.amos@gmail.com</td>\n",
       "      <td>615-870-9032</td>\n",
       "      <td>NaN</td>\n",
       "      <td>6 Month Married Couple Unlimited (Auto-pay)</td>\n",
       "      <td>Aug 10, 2022</td>\n",
       "      <td>Ongoing</td>\n",
       "      <td>NaN</td>\n",
       "      <td>NaN</td>\n",
       "      <td>$289.00</td>\n",
       "      <td>Active</td>\n",
       "      <td>NaN</td>\n",
       "    </tr>\n",
       "    <tr>\n",
       "      <th>2</th>\n",
       "      <td>Aaron</td>\n",
       "      <td>Patten</td>\n",
       "      <td>appatten21@gmail.com</td>\n",
       "      <td>931-265-3929</td>\n",
       "      <td>NaN</td>\n",
       "      <td>Married Couple Year Unlimited (Auto-pay)</td>\n",
       "      <td>Dec 30, 2021</td>\n",
       "      <td>Ongoing</td>\n",
       "      <td>Jun 30, 2022</td>\n",
       "      <td>NaN</td>\n",
       "      <td>$299.00</td>\n",
       "      <td>Canceled Memberships</td>\n",
       "      <td>NaN</td>\n",
       "    </tr>\n",
       "    <tr>\n",
       "      <th>3</th>\n",
       "      <td>Aaron</td>\n",
       "      <td>Patten</td>\n",
       "      <td>appatten21@gmail.com</td>\n",
       "      <td>931-265-3929</td>\n",
       "      <td>NaN</td>\n",
       "      <td>Strength Camp</td>\n",
       "      <td>Aug 8, 2022</td>\n",
       "      <td>Oct 7, 2022</td>\n",
       "      <td>Aug 10, 2022</td>\n",
       "      <td>NaN</td>\n",
       "      <td>$0.00</td>\n",
       "      <td>Canceled Memberships</td>\n",
       "      <td>NaN</td>\n",
       "    </tr>\n",
       "    <tr>\n",
       "      <th>4</th>\n",
       "      <td>Abigail</td>\n",
       "      <td>Hale</td>\n",
       "      <td>ahale6@gmail.com</td>\n",
       "      <td>615-653-2883</td>\n",
       "      <td>NaN</td>\n",
       "      <td>Lifetime Unlimited</td>\n",
       "      <td>May 21, 2020</td>\n",
       "      <td>Ongoing</td>\n",
       "      <td>NaN</td>\n",
       "      <td>NaN</td>\n",
       "      <td>$159.00</td>\n",
       "      <td>Active/On Hold</td>\n",
       "      <td>Membership was on hold 1 time : From 2022-09-1...</td>\n",
       "    </tr>\n",
       "  </tbody>\n",
       "</table>\n",
       "</div>"
      ],
      "text/plain": [
       "  First Name Last Name                   Email  Phone Number  Member ID  \\\n",
       "0       A.J.      Amos  anthony.amos@gmail.com  615-870-9032        NaN   \n",
       "1       A.J.      Amos  anthony.amos@gmail.com  615-870-9032        NaN   \n",
       "2      Aaron    Patten    appatten21@gmail.com  931-265-3929        NaN   \n",
       "3      Aaron    Patten    appatten21@gmail.com  931-265-3929        NaN   \n",
       "4    Abigail      Hale        ahale6@gmail.com  615-653-2883        NaN   \n",
       "\n",
       "                                    Membership    Start date    End date.  \\\n",
       "0             6 Month Unlimited (PAID IN FULL)   Feb 9, 2022  Aug 8, 2022   \n",
       "1  6 Month Married Couple Unlimited (Auto-pay)  Aug 10, 2022      Ongoing   \n",
       "2     Married Couple Year Unlimited (Auto-pay)  Dec 30, 2021      Ongoing   \n",
       "3                                Strength Camp   Aug 8, 2022  Oct 7, 2022   \n",
       "4                           Lifetime Unlimited  May 21, 2020      Ongoing   \n",
       "\n",
       "  Cancellation Date Termination Date Amount of Last Bill  \\\n",
       "0               NaN              NaN             $975.00   \n",
       "1               NaN              NaN             $289.00   \n",
       "2      Jun 30, 2022              NaN             $299.00   \n",
       "3      Aug 10, 2022              NaN               $0.00   \n",
       "4               NaN              NaN             $159.00   \n",
       "\n",
       "                 Status                                        Hold period  \n",
       "0   Expired Memberships                                                NaN  \n",
       "1                Active                                                NaN  \n",
       "2  Canceled Memberships                                                NaN  \n",
       "3  Canceled Memberships                                                NaN  \n",
       "4        Active/On Hold  Membership was on hold 1 time : From 2022-09-1...  "
      ]
     },
     "execution_count": 34,
     "metadata": {},
     "output_type": "execute_result"
    }
   ],
   "source": [
    "raw_df = pd.read_csv('csv\\Memberships, June-Oct 22.csv')\n",
    "raw_df.head()"
   ]
  },
  {
   "cell_type": "code",
   "execution_count": 41,
   "metadata": {},
   "outputs": [
    {
     "name": "stdout",
     "output_type": "stream",
     "text": [
      "0                      6 Month Unlimited (PAID IN FULL)\n",
      "1           6 Month Married Couple Unlimited (Auto-pay)\n",
      "2              Married Couple Year Unlimited (Auto-pay)\n",
      "3                                         Strength Camp\n",
      "4                                    Lifetime Unlimited\n",
      "5                      4 Month Unlimited (PAID IN FULL)\n",
      "6                      Basically Dating 12-Pack A Month\n",
      "7                      2 Month Unlimited (PAID IN FULL)\n",
      "8                          Unlimited Monthly Membership\n",
      "9     6-Month Married Unlimited Membership (PAID IN ...\n",
      "10                                      Staff Unlimited\n",
      "11                           Friends & Family Unlimited\n",
      "12                         Just Flirting 8-Pack a Month\n",
      "13                                    Swinger Unlimited\n",
      "14                Married Year Unlimited (PAID IN FULL)\n",
      "dtype: object\n"
     ]
    }
   ],
   "source": [
    "uni_mem = []\n",
    "uni_mem = raw_df.Membership.unique()\n",
    "unique = pd.Series(uni_mem)\n",
    "print(unique)"
   ]
  },
  {
   "cell_type": "code",
   "execution_count": 43,
   "metadata": {},
   "outputs": [
    {
     "data": {
      "text/plain": [
       "Unlimited Monthly Membership                           44\n",
       "Lifetime Unlimited                                     28\n",
       "Staff Unlimited                                        27\n",
       "2 Month Unlimited (PAID IN FULL)                       18\n",
       "6 Month Unlimited (PAID IN FULL)                       15\n",
       "Married Couple Year Unlimited (Auto-pay)               15\n",
       "Just Flirting 8-Pack a Month                           15\n",
       "Basically Dating 12-Pack A Month                       14\n",
       "6 Month Married Couple Unlimited (Auto-pay)            11\n",
       "Friends & Family Unlimited                              9\n",
       "4 Month Unlimited (PAID IN FULL)                        7\n",
       "Married Year Unlimited (PAID IN FULL)                   5\n",
       "Strength Camp                                           4\n",
       "Swinger Unlimited                                       3\n",
       "6-Month Married Unlimited Membership (PAID IN FULL)     2\n",
       "Name: Membership, dtype: int64"
      ]
     },
     "execution_count": 43,
     "metadata": {},
     "output_type": "execute_result"
    }
   ],
   "source": [
    "raw_df['Membership'].value_counts()"
   ]
  },
  {
   "cell_type": "code",
   "execution_count": null,
   "metadata": {},
   "outputs": [],
   "source": []
  }
 ],
 "metadata": {
  "kernelspec": {
   "display_name": "Python 3.9.7 ('PythonData')",
   "language": "python",
   "name": "python3"
  },
  "language_info": {
   "codemirror_mode": {
    "name": "ipython",
    "version": 3
   },
   "file_extension": ".py",
   "mimetype": "text/x-python",
   "name": "python",
   "nbconvert_exporter": "python",
   "pygments_lexer": "ipython3",
   "version": "3.9.13"
  },
  "orig_nbformat": 4,
  "vscode": {
   "interpreter": {
    "hash": "6afee78f6172a3c7101814c5c7571cad7e2b95ccaaf97f14b667085a5407e27e"
   }
  }
 },
 "nbformat": 4,
 "nbformat_minor": 2
}
